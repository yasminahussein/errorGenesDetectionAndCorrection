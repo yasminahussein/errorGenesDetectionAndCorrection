{
 "cells": [
  {
   "cell_type": "code",
   "execution_count": 1,
   "metadata": {
    "ExecuteTime": {
     "end_time": "2023-06-08T14:02:23.738757Z",
     "start_time": "2023-06-08T14:02:23.726790Z"
    }
   },
   "outputs": [],
   "source": [
    "import re"
   ]
  },
  {
   "cell_type": "code",
   "execution_count": 2,
   "metadata": {
    "ExecuteTime": {
     "end_time": "2023-06-08T14:02:24.124413Z",
     "start_time": "2023-06-08T14:02:24.115673Z"
    }
   },
   "outputs": [],
   "source": [
    "def read(filename):\n",
    "    seqs =[]\n",
    "    #To read lines of genes only\n",
    "    with open(filename) as fo:\n",
    "        while True:\n",
    "            fo.readline()\n",
    "            seq= fo.readline().rstrip()\n",
    "            fo.readline()\n",
    "            fo.readline()\n",
    "            if len(seq) == 0:\n",
    "                break\n",
    "\n",
    "            seqs.append(seq)\n",
    "        fo.close()\n",
    "        \n",
    "    #To make reads in one string\n",
    "    stringgg=''.join([str(item) for item in seqs])\n",
    "    stringg=stringgg.replace('N','')\n",
    "    \n",
    "    #we take sample from string to make code faster\n",
    "    string=stringg[0:150000]\n",
    "    \n",
    "    #divide string into K-mers\n",
    "    res =cmers(string,8)\n",
    "    \n",
    "    #To get errors that is smaller than threshold\n",
    "    err_vals,cor_vals=err(res)\n",
    "    return err_vals,cor_vals\n",
    "    \n"
   ]
  },
  {
   "cell_type": "code",
   "execution_count": 3,
   "metadata": {
    "ExecuteTime": {
     "end_time": "2023-06-08T14:02:24.493543Z",
     "start_time": "2023-06-08T14:02:24.478338Z"
    }
   },
   "outputs": [],
   "source": [
    "def cmers (string,k):\n",
    "    kfreq={}\n",
    "    for i in range(0,len(string)-k+1):\n",
    "        kmer =string [i:i+k]\n",
    "        if kmer in kfreq:\n",
    "            kfreq[kmer] +=1\n",
    "        else :\n",
    "            kfreq[kmer]=1\n",
    "    return kfreq"
   ]
  },
  {
   "cell_type": "code",
   "execution_count": 4,
   "metadata": {
    "ExecuteTime": {
     "end_time": "2023-06-08T14:02:24.854742Z",
     "start_time": "2023-06-08T14:02:24.839406Z"
    }
   },
   "outputs": [],
   "source": [
    "def err(res):\n",
    "    errors=[]\n",
    "    correct=[]\n",
    "    for i in range (len(res)):\n",
    "        value_at_index = list(res.values())[i] \n",
    "        key_at_index = list(res.keys())[i] \n",
    "        if value_at_index<6:\n",
    "            errors.append(key_at_index)\n",
    "            \n",
    "        else:\n",
    "            correct.append(key_at_index)\n",
    "            \n",
    "         \n",
    "    return errors,correct "
   ]
  },
  {
   "cell_type": "code",
   "execution_count": 5,
   "metadata": {
    "ExecuteTime": {
     "end_time": "2023-06-08T14:02:25.263651Z",
     "start_time": "2023-06-08T14:02:25.248351Z"
    }
   },
   "outputs": [],
   "source": [
    "def readref(ref):\n",
    "    refs =[]\n",
    "    with open (ref) as gen:\n",
    "        while True:\n",
    "            gen.readline()\n",
    "            ref= gen.readline().rstrip()\n",
    "\n",
    "            if len(ref) == 0:\n",
    "                break\n",
    "\n",
    "            refs.append(ref)\n",
    "    gen.close()\n",
    "    clrRef=''.join([str(element) for element in refs])\n",
    "    \n",
    "    return clrRef"
   ]
  },
  {
   "cell_type": "code",
   "execution_count": 6,
   "metadata": {
    "ExecuteTime": {
     "end_time": "2023-06-08T14:02:26.222338Z",
     "start_time": "2023-06-08T14:02:26.213062Z"
    },
    "scrolled": true
   },
   "outputs": [],
   "source": [
    "def get_data():\n",
    "    clrRef= refFile()\n",
    "    err_val,cor_val= seqFile()\n",
    "    errors=[]\n",
    "    matched_errors=[]\n",
    "    \n",
    "    #To get errors which is not in refrence\n",
    "    for r in err_val:\n",
    "        pattern = re.search(r,clrRef)\n",
    "        if pattern:\n",
    "            matched_errors.append(r)\n",
    "\n",
    "        else:\n",
    "            errors.append(r)\n",
    "    mutation=[]\n",
    "    not_mutation=[]\n",
    "    listbox.insert(0,\"***Error ==> Correction***\" )\n",
    "    \n",
    "    #To correct errors to the close similar K-mer\n",
    "    for x in errors:\n",
    "        for j in cor_val:\n",
    "            i=0\n",
    "            count=0\n",
    "            st=\"\"\n",
    "            for i in range(0,len(j)):\n",
    "                if x[i]==j[i]:\n",
    "                    st+=j[i]\n",
    "                    i+=1\n",
    "                    count+=1\n",
    "                    if count>=len(j)-2:\n",
    "                        not_mutation.append(x)\n",
    "                        listbox.insert(END,\"-\"+x+\"==>\"+j )\n",
    "                        st=\"\"\n",
    "                        break\n",
    "                else:\n",
    "                    i+=1\n",
    "\n",
    "        if x in not_mutation:\n",
    "            continue\n",
    "        else:\n",
    "            #To get mutation which is not in refrence \n",
    "            mutation.append(x)          \n",
    "    mutation.insert(0,\"***MUTATIONS WHICH IS NOT IN REFRENCE***\")\n",
    "    for values in mutation:\n",
    "        listbox.insert(END,\"-\"+values)\n",
    "    "
   ]
  },
  {
   "cell_type": "code",
   "execution_count": 7,
   "metadata": {
    "ExecuteTime": {
     "end_time": "2023-06-08T14:02:26.737610Z",
     "start_time": "2023-06-08T14:02:26.664976Z"
    }
   },
   "outputs": [],
   "source": [
    "from tkinter import *\n",
    "from tkinter import filedialog\n",
    "\n",
    "#To tack path of sequence file \n",
    "\n",
    "def seqFile():\n",
    "    filepath = filedialog.askopenfilename(initialdir=\"C:\\\\Users\\\\Cakow\\\\PycharmProjects\\\\Main\",\n",
    "                                          title=\"Upload sequence file\",\n",
    "                                          filetypes= ((\"text files\",\"*.txt\"),\n",
    "                                          (\"all files\",\"*.*\")))\n",
    "    err,correct=read(filepath)\n",
    "    return err,correct\n",
    "   \n",
    "    \n",
    "    \n",
    "#To tack path of reference file \n",
    "def refFile():\n",
    "    filepath = filedialog.askopenfilename(initialdir=\"C:\\\\Users\\\\Cakow\\\\PycharmProjects\\\\Main\",\n",
    "                                          title=\"Upload refrence file\",\n",
    "                                          filetypes= ((\"text files\",\"*.txt\"),\n",
    "                                          (\"all files\",\"*.*\")))\n",
    "    ref=readref(filepath)\n",
    "    return ref"
   ]
  },
  {
   "cell_type": "code",
   "execution_count": 8,
   "metadata": {
    "ExecuteTime": {
     "end_time": "2023-06-08T14:02:27.325162Z",
     "start_time": "2023-06-08T14:02:27.206375Z"
    }
   },
   "outputs": [],
   "source": [
    "#To create title bar of a tkinter window\n",
    "ws = Tk()"
   ]
  },
  {
   "cell_type": "code",
   "execution_count": 9,
   "metadata": {
    "ExecuteTime": {
     "end_time": "2023-06-08T14:02:32.768747Z",
     "start_time": "2023-06-08T14:02:27.704559Z"
    },
    "scrolled": true
   },
   "outputs": [],
   "source": [
    "#user interface\n",
    "ws.title('Error detection & correction')\n",
    "ws.geometry('860x573')\n",
    "ws.config(bg='gray')\n",
    "\n",
    "img = PhotoImage(file='back.png')\n",
    "label = Label(\n",
    "   ws,\n",
    "    image=img)\n",
    "label.place(x=0, y=0)\n",
    "\n",
    "frame = Frame(ws, bg='white', bd=5)\n",
    "frame.place(relx=.5,rely=.25,relwidth=.75,relheight=.6,anchor='n')\n",
    "label1=Label(frame)\n",
    "label1.place(relwidth=1,relheight=1)\n",
    "\n",
    "listbox = Listbox(ws)\n",
    "listbox.place(relx=.5,rely=.32,relwidth=.75,relheight=.6,anchor='n')\n",
    "\n",
    "scrollbar = Scrollbar(listbox)\n",
    "scrollbar.pack(side=RIGHT,fill=BOTH)\n",
    "\n",
    "listbox.config(yscrollcommand=scrollbar.set)\n",
    "scrollbar.config(command=listbox.yview)\n",
    "\n",
    "result=Button(frame,text=\"Get The Result\",bg='white',fg='black',font=40,command=get_data)\n",
    "result.pack(side='top')\n",
    "\n",
    "ws.mainloop()"
   ]
  },
  {
   "cell_type": "code",
   "execution_count": null,
   "metadata": {},
   "outputs": [],
   "source": []
  }
 ],
 "metadata": {
  "celltoolbar": "Slideshow",
  "kernelspec": {
   "display_name": "Python 3",
   "language": "python",
   "name": "python3"
  },
  "language_info": {
   "codemirror_mode": {
    "name": "ipython",
    "version": 3
   },
   "file_extension": ".py",
   "mimetype": "text/x-python",
   "name": "python",
   "nbconvert_exporter": "python",
   "pygments_lexer": "ipython3",
   "version": "3.8.5"
  },
  "toc": {
   "base_numbering": 1,
   "nav_menu": {},
   "number_sections": true,
   "sideBar": true,
   "skip_h1_title": false,
   "title_cell": "Table of Contents",
   "title_sidebar": "Contents",
   "toc_cell": false,
   "toc_position": {},
   "toc_section_display": true,
   "toc_window_display": false
  },
  "varInspector": {
   "cols": {
    "lenName": 16,
    "lenType": 16,
    "lenVar": 40
   },
   "kernels_config": {
    "python": {
     "delete_cmd_postfix": "",
     "delete_cmd_prefix": "del ",
     "library": "var_list.py",
     "varRefreshCmd": "print(var_dic_list())"
    },
    "r": {
     "delete_cmd_postfix": ") ",
     "delete_cmd_prefix": "rm(",
     "library": "var_list.r",
     "varRefreshCmd": "cat(var_dic_list()) "
    }
   },
   "types_to_exclude": [
    "module",
    "function",
    "builtin_function_or_method",
    "instance",
    "_Feature"
   ],
   "window_display": false
  },
  "widgets": {
   "application/vnd.jupyter.widget-state+json": {
    "state": {},
    "version_major": 2,
    "version_minor": 0
   }
  }
 },
 "nbformat": 4,
 "nbformat_minor": 4
}
